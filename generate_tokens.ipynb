{
 "cells": [
  {
   "cell_type": "code",
   "execution_count": 34,
   "metadata": {},
   "outputs": [
    {
     "name": "stderr",
     "output_type": "stream",
     "text": [
      "100%|██████████| 135885/135885 [00:14<00:00, 9542.58it/s]\n"
     ]
    }
   ],
   "source": [
    "import regex as re\n",
    "from tqdm import tqdm\n",
    "import numpy as np\n",
    "from datasets import load_dataset\n",
    "import torch\n",
    "import json\n",
    "from simple_tokenizer import excluded_characters_pat, unallowed_characters, get_tok_strs\n",
    "\n",
    "\n",
    "def get_str_counts(dataset, known_toks=None):\n",
    "    str_counts = {}\n",
    "    for item in tqdm(dataset):\n",
    "        doc = item['text']\n",
    "\n",
    "        # drop documents that include an explicitly excluded character; I think this is ~8% of docs?\n",
    "        if excluded_characters_pat.search(doc) is not None:\n",
    "            continue\n",
    "\n",
    "        # make sure that no weird characters are inside the doc after filtering\n",
    "        assert not unallowed_characters.search(doc)\n",
    "\n",
    "        toks = get_tok_strs(doc, known_toks=known_toks)\n",
    "\n",
    "        # if known_toks is not None:\n",
    "        #     # drop documents that contain toks that are not in known_toks\n",
    "        #     toks_set = set(toks)\n",
    "        #     if len(toks_set.intersection(known_toks)) < len(toks_set):\n",
    "        #         continue\n",
    "\n",
    "        for tok in toks:\n",
    "            if tok in str_counts:\n",
    "                str_counts[tok] += 1\n",
    "            else:\n",
    "                str_counts[tok] = 1\n",
    "    \n",
    "    return str_counts\n",
    "\n",
    "\n",
    "dataset = load_dataset('noanabeshima/TinyStoriesV2', split='train[:5%]')\n",
    "str_counts = get_str_counts(dataset)\n",
    "\n",
    "strs = np.array(list(str_counts.keys()))\n",
    "counts = torch.tensor(list(str_counts.values()))\n",
    "\n",
    "topk = counts.topk(k=8192-2) # add space for [bos], [unk]\n",
    "common_strs = strs[topk.indices]\n",
    "\n",
    "toks = np.array(['[bos]', '[unk]'] + common_strs.tolist())\n",
    "\n",
    "\n",
    "\n",
    "with open('./simple_tokenizer/tokens.json', 'w') as f:\n",
    "    json.dump(toks.tolist(), f)"
   ]
  }
 ],
 "metadata": {
  "kernelspec": {
   "display_name": "tokre",
   "language": "python",
   "name": "python3"
  },
  "language_info": {
   "codemirror_mode": {
    "name": "ipython",
    "version": 3
   },
   "file_extension": ".py",
   "mimetype": "text/x-python",
   "name": "python",
   "nbconvert_exporter": "python",
   "pygments_lexer": "ipython3",
   "version": "3.12.3"
  }
 },
 "nbformat": 4,
 "nbformat_minor": 2
}
